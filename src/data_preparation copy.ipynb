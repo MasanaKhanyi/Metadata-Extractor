{
 "cells": [
  {
   "cell_type": "code",
   "execution_count": 43,
   "metadata": {},
   "outputs": [],
   "source": [
    "import os\n",
    "import json\n",
    "import pandas as pd\n",
    "import spacy\n",
    "\n",
    "\n",
    "nlp = spacy.load(\"en_core_web_lg\")"
   ]
  },
  {
   "cell_type": "markdown",
   "metadata": {},
   "source": [
    "# Data Preparation"
   ]
  },
  {
   "cell_type": "code",
   "execution_count": 44,
   "metadata": {},
   "outputs": [],
   "source": [
    "data_file = open('../Data/citation_data.json')\n",
    "\n",
    "lines = data_file.readlines()\n",
    "json_lines = []\n"
   ]
  },
  {
   "cell_type": "code",
   "execution_count": 45,
   "metadata": {},
   "outputs": [],
   "source": [
    "for line in lines:\n",
    "    json_lines.append(json.loads(line))\n",
    "\n",
    "cc_df = pd.DataFrame(json_lines)"
   ]
  },
  {
   "cell_type": "code",
   "execution_count": 46,
   "metadata": {},
   "outputs": [
    {
     "data": {
      "text/html": [
       "<div>\n",
       "<style scoped>\n",
       "    .dataframe tbody tr th:only-of-type {\n",
       "        vertical-align: middle;\n",
       "    }\n",
       "\n",
       "    .dataframe tbody tr th {\n",
       "        vertical-align: top;\n",
       "    }\n",
       "\n",
       "    .dataframe thead th {\n",
       "        text-align: right;\n",
       "    }\n",
       "</style>\n",
       "<table border=\"1\" class=\"dataframe\">\n",
       "  <thead>\n",
       "    <tr style=\"text-align: right;\">\n",
       "      <th></th>\n",
       "      <th>src_paper_id</th>\n",
       "      <th>tgt_paper_id</th>\n",
       "      <th>src_abstract</th>\n",
       "      <th>tgt_abstract</th>\n",
       "      <th>explicit_citation</th>\n",
       "      <th>text_before_explicit_citation</th>\n",
       "      <th>text_after_explicit_citation</th>\n",
       "      <th>implicit_citation_0.1</th>\n",
       "      <th>text_before_implicit_citation_0.1</th>\n",
       "      <th>text_after_implicit_citation_0.1</th>\n",
       "      <th>implicit_citation_0.9</th>\n",
       "      <th>text_before_implicit_citation_0.9</th>\n",
       "      <th>text_after_implicit_citation_0.9</th>\n",
       "      <th>human_labeled</th>\n",
       "      <th>train_or_test</th>\n",
       "    </tr>\n",
       "  </thead>\n",
       "  <tbody>\n",
       "    <tr>\n",
       "      <th>0</th>\n",
       "      <td>D09-1141</td>\n",
       "      <td>A00-1002</td>\n",
       "      <td>We propose a novel language-independent approa...</td>\n",
       "      <td>Using examples of the transfer-based MT system...</td>\n",
       "      <td>Other important publications about pivoting ap...</td>\n",
       "      <td>For example, using German as a pivot, they ext...</td>\n",
       "      <td>Unlike pivoting, which can only improve source...</td>\n",
       "      <td>Other important publications about pivoting ap...</td>\n",
       "      <td>For example, using German as a pivot, they ext...</td>\n",
       "      <td>Second, while pivoting ignores context when ex...</td>\n",
       "      <td>Other important publications about pivoting ap...</td>\n",
       "      <td>For example, using German as a pivot, they ext...</td>\n",
       "      <td>Second, while pivoting ignores context when ex...</td>\n",
       "      <td>0</td>\n",
       "      <td>train</td>\n",
       "    </tr>\n",
       "    <tr>\n",
       "      <th>1</th>\n",
       "      <td>D12-1027</td>\n",
       "      <td>A00-1002</td>\n",
       "      <td>We propose a novel, language-independent appro...</td>\n",
       "      <td>Using examples of the transfer-based MT system...</td>\n",
       "      <td>This has been tried for a number of language p...</td>\n",
       "      <td>One relevant line of research is on machine tr...</td>\n",
       "      <td>Crimean Tatar #OTHEREFR, Irish. Scottish Gaeli...</td>\n",
       "      <td>This has been tried for a number of language p...</td>\n",
       "      <td>One relevant line of research is on machine tr...</td>\n",
       "      <td>Crimean Tatar #OTHEREFR, Irish. Scottish Gaeli...</td>\n",
       "      <td>This has been tried for a number of language p...</td>\n",
       "      <td>One relevant line of research is on machine tr...</td>\n",
       "      <td>Crimean Tatar #OTHEREFR, Irish. Scottish Gaeli...</td>\n",
       "      <td>0</td>\n",
       "      <td>train</td>\n",
       "    </tr>\n",
       "    <tr>\n",
       "      <th>2</th>\n",
       "      <td>H05-1110</td>\n",
       "      <td>A00-1002</td>\n",
       "      <td>Dictionaries and word translation models are u...</td>\n",
       "      <td>Using examples of the transfer-based MT system...</td>\n",
       "      <td>It is also worth noting that there has been so...</td>\n",
       "      <td>They use a variety of approaches #OTHEREFR), m...</td>\n",
       "      <td>4Much of recent MT research focuses on pairs o...</td>\n",
       "      <td>They do not, however, focus on related languag...</td>\n",
       "      <td>Many machine translation techniques require di...</td>\n",
       "      <td>4Much of recent MT research focuses on pairs o...</td>\n",
       "      <td>It is also worth noting that there has been so...</td>\n",
       "      <td>They use a variety of approaches #OTHEREFR), m...</td>\n",
       "      <td>4Much of recent MT research focuses on pairs o...</td>\n",
       "      <td>0</td>\n",
       "      <td>train</td>\n",
       "    </tr>\n",
       "    <tr>\n",
       "      <th>3</th>\n",
       "      <td>P13-2073</td>\n",
       "      <td>A00-1002</td>\n",
       "      <td>An important challenge to statistical machine ...</td>\n",
       "      <td>Using examples of the transfer-based MT system...</td>\n",
       "      <td>Pivoting has been explored for closely related...</td>\n",
       "      <td>Many researchers have investigated the use of ...</td>\n",
       "      <td>Many different pivot strategies have been pres...</td>\n",
       "      <td>Pivoting has been explored for closely related...</td>\n",
       "      <td>Many researchers have investigated the use of ...</td>\n",
       "      <td>The first strategy is the sentence translation...</td>\n",
       "      <td>Pivoting has been explored for closely related...</td>\n",
       "      <td>Many researchers have investigated the use of ...</td>\n",
       "      <td>Many different pivot strategies have been pres...</td>\n",
       "      <td>0</td>\n",
       "      <td>train</td>\n",
       "    </tr>\n",
       "    <tr>\n",
       "      <th>4</th>\n",
       "      <td>W11-2602</td>\n",
       "      <td>A00-1002</td>\n",
       "      <td>This paper is about improving the quality of A...</td>\n",
       "      <td>Using examples of the transfer-based MT system...</td>\n",
       "      <td>#REFR argued that for very close languages, e....</td>\n",
       "      <td>Moreover, Al-Sabbagh and Girju #OTHEREFR descr...</td>\n",
       "      <td>Zhang #OTHEREFR introduced a Cantonese-Mandari...</td>\n",
       "      <td>#REFR argued that for very close languages, e....</td>\n",
       "      <td>Moreover, Al-Sabbagh and Girju #OTHEREFR descr...</td>\n",
       "      <td>Zhang #OTHEREFR introduced a Cantonese-Mandari...</td>\n",
       "      <td>#REFR argued that for very close languages, e....</td>\n",
       "      <td>Moreover, Al-Sabbagh and Girju #OTHEREFR descr...</td>\n",
       "      <td>Zhang #OTHEREFR introduced a Cantonese-Mandari...</td>\n",
       "      <td>0</td>\n",
       "      <td>train</td>\n",
       "    </tr>\n",
       "  </tbody>\n",
       "</table>\n",
       "</div>"
      ],
      "text/plain": [
       "  src_paper_id tgt_paper_id  \\\n",
       "0     D09-1141     A00-1002   \n",
       "1     D12-1027     A00-1002   \n",
       "2     H05-1110     A00-1002   \n",
       "3     P13-2073     A00-1002   \n",
       "4     W11-2602     A00-1002   \n",
       "\n",
       "                                        src_abstract  \\\n",
       "0  We propose a novel language-independent approa...   \n",
       "1  We propose a novel, language-independent appro...   \n",
       "2  Dictionaries and word translation models are u...   \n",
       "3  An important challenge to statistical machine ...   \n",
       "4  This paper is about improving the quality of A...   \n",
       "\n",
       "                                        tgt_abstract  \\\n",
       "0  Using examples of the transfer-based MT system...   \n",
       "1  Using examples of the transfer-based MT system...   \n",
       "2  Using examples of the transfer-based MT system...   \n",
       "3  Using examples of the transfer-based MT system...   \n",
       "4  Using examples of the transfer-based MT system...   \n",
       "\n",
       "                                   explicit_citation  \\\n",
       "0  Other important publications about pivoting ap...   \n",
       "1  This has been tried for a number of language p...   \n",
       "2  It is also worth noting that there has been so...   \n",
       "3  Pivoting has been explored for closely related...   \n",
       "4  #REFR argued that for very close languages, e....   \n",
       "\n",
       "                       text_before_explicit_citation  \\\n",
       "0  For example, using German as a pivot, they ext...   \n",
       "1  One relevant line of research is on machine tr...   \n",
       "2  They use a variety of approaches #OTHEREFR), m...   \n",
       "3  Many researchers have investigated the use of ...   \n",
       "4  Moreover, Al-Sabbagh and Girju #OTHEREFR descr...   \n",
       "\n",
       "                        text_after_explicit_citation  \\\n",
       "0  Unlike pivoting, which can only improve source...   \n",
       "1  Crimean Tatar #OTHEREFR, Irish. Scottish Gaeli...   \n",
       "2  4Much of recent MT research focuses on pairs o...   \n",
       "3  Many different pivot strategies have been pres...   \n",
       "4  Zhang #OTHEREFR introduced a Cantonese-Mandari...   \n",
       "\n",
       "                               implicit_citation_0.1  \\\n",
       "0  Other important publications about pivoting ap...   \n",
       "1  This has been tried for a number of language p...   \n",
       "2  They do not, however, focus on related languag...   \n",
       "3  Pivoting has been explored for closely related...   \n",
       "4  #REFR argued that for very close languages, e....   \n",
       "\n",
       "                   text_before_implicit_citation_0.1  \\\n",
       "0  For example, using German as a pivot, they ext...   \n",
       "1  One relevant line of research is on machine tr...   \n",
       "2  Many machine translation techniques require di...   \n",
       "3  Many researchers have investigated the use of ...   \n",
       "4  Moreover, Al-Sabbagh and Girju #OTHEREFR descr...   \n",
       "\n",
       "                    text_after_implicit_citation_0.1  \\\n",
       "0  Second, while pivoting ignores context when ex...   \n",
       "1  Crimean Tatar #OTHEREFR, Irish. Scottish Gaeli...   \n",
       "2  4Much of recent MT research focuses on pairs o...   \n",
       "3  The first strategy is the sentence translation...   \n",
       "4  Zhang #OTHEREFR introduced a Cantonese-Mandari...   \n",
       "\n",
       "                               implicit_citation_0.9  \\\n",
       "0  Other important publications about pivoting ap...   \n",
       "1  This has been tried for a number of language p...   \n",
       "2  It is also worth noting that there has been so...   \n",
       "3  Pivoting has been explored for closely related...   \n",
       "4  #REFR argued that for very close languages, e....   \n",
       "\n",
       "                   text_before_implicit_citation_0.9  \\\n",
       "0  For example, using German as a pivot, they ext...   \n",
       "1  One relevant line of research is on machine tr...   \n",
       "2  They use a variety of approaches #OTHEREFR), m...   \n",
       "3  Many researchers have investigated the use of ...   \n",
       "4  Moreover, Al-Sabbagh and Girju #OTHEREFR descr...   \n",
       "\n",
       "                    text_after_implicit_citation_0.9  human_labeled  \\\n",
       "0  Second, while pivoting ignores context when ex...              0   \n",
       "1  Crimean Tatar #OTHEREFR, Irish. Scottish Gaeli...              0   \n",
       "2  4Much of recent MT research focuses on pairs o...              0   \n",
       "3  Many different pivot strategies have been pres...              0   \n",
       "4  Zhang #OTHEREFR introduced a Cantonese-Mandari...              0   \n",
       "\n",
       "  train_or_test  \n",
       "0         train  \n",
       "1         train  \n",
       "2         train  \n",
       "3         train  \n",
       "4         train  "
      ]
     },
     "execution_count": 46,
     "metadata": {},
     "output_type": "execute_result"
    }
   ],
   "source": [
    "cc_df.head()"
   ]
  },
  {
   "cell_type": "markdown",
   "metadata": {},
   "source": [
    "##### Get Human Labelled"
   ]
  },
  {
   "cell_type": "code",
   "execution_count": 47,
   "metadata": {},
   "outputs": [],
   "source": [
    "cc_hl_df = cc_df[cc_df['human_labeled'] == 1]  # Replace 'column_name' with the name of the column you want to filter ondf.to_json('output.json', orient='records')  # Replace 'output.json' with the desired file name and path\n",
    "cc_hl_df.to_json('../Data/human_labeled_cc.json', orient='records')  # Replace 'output.json' with the desired file name and path"
   ]
  },
  {
   "cell_type": "code",
   "execution_count": 48,
   "metadata": {},
   "outputs": [],
   "source": [
    "cc_hl_df = cc_df[cc_df['human_labeled'] == 0] \n"
   ]
  },
  {
   "cell_type": "code",
   "execution_count": 49,
   "metadata": {},
   "outputs": [
    {
     "name": "stderr",
     "output_type": "stream",
     "text": [
      "/var/folders/0q/frl6r__d72n6kwcf0721y37h0000gn/T/ipykernel_97178/283619694.py:1: SettingWithCopyWarning: \n",
      "A value is trying to be set on a copy of a slice from a DataFrame.\n",
      "Try using .loc[row_indexer,col_indexer] = value instead\n",
      "\n",
      "See the caveats in the documentation: https://pandas.pydata.org/pandas-docs/stable/user_guide/indexing.html#returning-a-view-versus-a-copy\n",
      "  cc_hl_df['full_context']= cc_hl_df['text_before_explicit_citation'] +\" \"+ cc_hl_df['explicit_citation'] + \" \" +cc_hl_df['text_after_explicit_citation']\n"
     ]
    }
   ],
   "source": [
    "cc_hl_df['full_context']= cc_hl_df['text_before_explicit_citation'] + \" \"+ cc_hl_df['explicit_citation'] + \" \" +cc_hl_df['text_after_explicit_citation']"
   ]
  },
  {
   "cell_type": "code",
   "execution_count": null,
   "metadata": {},
   "outputs": [],
   "source": []
  },
  {
   "cell_type": "markdown",
   "metadata": {},
   "source": [
    "# Model Training\n"
   ]
  },
  {
   "cell_type": "code",
   "execution_count": null,
   "metadata": {},
   "outputs": [],
   "source": [
    "from transformers import RobertaTokenizer, RobertaForQuestionAnswering\n",
    "from transformers import Trainer, TrainingArguments\n",
    "import torch"
   ]
  },
  {
   "cell_type": "code",
   "execution_count": null,
   "metadata": {},
   "outputs": [],
   "source": []
  },
  {
   "cell_type": "code",
   "execution_count": null,
   "metadata": {},
   "outputs": [],
   "source": []
  }
 ],
 "metadata": {
  "kernelspec": {
   "display_name": "Python 3",
   "language": "python",
   "name": "python3"
  },
  "language_info": {
   "codemirror_mode": {
    "name": "ipython",
    "version": 3
   },
   "file_extension": ".py",
   "mimetype": "text/x-python",
   "name": "python",
   "nbconvert_exporter": "python",
   "pygments_lexer": "ipython3",
   "version": "3.11.2"
  }
 },
 "nbformat": 4,
 "nbformat_minor": 2
}
